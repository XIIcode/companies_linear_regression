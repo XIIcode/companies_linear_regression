{
 "cells": [
  {
   "cell_type": "markdown",
   "metadata": {},
   "source": [
    "### Importation of libraries"
   ]
  },
  {
   "cell_type": "code",
   "execution_count": 1,
   "metadata": {},
   "outputs": [],
   "source": [
    "import numpy as np\n",
    "import pandas as pd"
   ]
  },
  {
   "cell_type": "code",
   "execution_count": 2,
   "metadata": {},
   "outputs": [
    {
     "name": "stdout",
     "output_type": "stream",
     "text": [
      "0      192261.83000\n",
      "1      191792.06000\n",
      "2      191050.39000\n",
      "3      182901.99000\n",
      "4      166187.94000\n",
      "           ...     \n",
      "995     95279.96251\n",
      "996    164336.60550\n",
      "997    413956.48000\n",
      "998    333962.19000\n",
      "999    476485.43000\n",
      "Name: Profit, Length: 1000, dtype: float64\n"
     ]
    }
   ],
   "source": [
    "df = pd.read_csv(\"1000_Companies.csv\")\n",
    "# df.head()\n",
    "# identify the dependent and the independent variables.\n",
    "x = df.iloc[:, :-1]\n",
    "y = df.iloc[:,4]\n",
    "print(y)"
   ]
  },
  {
   "cell_type": "code",
   "execution_count": 3,
   "metadata": {},
   "outputs": [],
   "source": [
    "x.drop(['State'],axis=1,inplace=True)"
   ]
  },
  {
   "cell_type": "code",
   "execution_count": 4,
   "metadata": {},
   "outputs": [],
   "source": [
    "duplicated_rows = x[x.duplicated()]"
   ]
  },
  {
   "cell_type": "code",
   "execution_count": 5,
   "metadata": {},
   "outputs": [
    {
     "name": "stdout",
     "output_type": "stream",
     "text": [
      "0      192261.83000\n",
      "1      191792.06000\n",
      "2      191050.39000\n",
      "3      182901.99000\n",
      "4      166187.94000\n",
      "           ...     \n",
      "995     95279.96251\n",
      "996    164336.60550\n",
      "997    413956.48000\n",
      "998    333962.19000\n",
      "999    476485.43000\n",
      "Name: Profit, Length: 998, dtype: float64\n"
     ]
    }
   ],
   "source": [
    "x = x.drop_duplicates(keep=\"last\")\n",
    "y = y.drop_duplicates(keep=\"last\")\n",
    "\n",
    "print(y)"
   ]
  },
  {
   "cell_type": "code",
   "execution_count": 6,
   "metadata": {},
   "outputs": [],
   "source": [
    "from sklearn.model_selection import train_test_split\n",
    "from sklearn.linear_model import LinearRegression\n",
    "X_train,X_test,Y_train,Y_test = train_test_split(x,y,test_size=0.2,random_state=0)\n",
    "\n",
    "model = LinearRegression()\n",
    "model.fit(X_train,Y_train)\n",
    "Y_pred = model.predict(X_test)"
   ]
  },
  {
   "cell_type": "code",
   "execution_count": 7,
   "metadata": {},
   "outputs": [
    {
     "name": "stdout",
     "output_type": "stream",
     "text": [
      "Mean squared error :  34314444.89059983\n",
      "R2 score :  0.9774201705958332\n"
     ]
    }
   ],
   "source": [
    "from sklearn.metrics import r2_score, mean_squared_error\n",
    "mse = mean_squared_error(Y_test,Y_pred)\n",
    "r2 = r2_score(Y_test,Y_pred)\n",
    "\n",
    "print(\"Mean squared error : \", mse)\n",
    "print(\"R2 score : \", r2)"
   ]
  }
 ],
 "metadata": {
  "kernelspec": {
   "display_name": "Python 3",
   "language": "python",
   "name": "python3"
  },
  "language_info": {
   "codemirror_mode": {
    "name": "ipython",
    "version": 3
   },
   "file_extension": ".py",
   "mimetype": "text/x-python",
   "name": "python",
   "nbconvert_exporter": "python",
   "pygments_lexer": "ipython3",
   "version": "3.12.2"
  }
 },
 "nbformat": 4,
 "nbformat_minor": 2
}
